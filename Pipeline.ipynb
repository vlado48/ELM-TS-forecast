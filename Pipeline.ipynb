{
 "cells": [
  {
   "cell_type": "code",
   "execution_count": 4,
   "metadata": {},
   "outputs": [
    {
     "name": "stdout",
     "output_type": "stream",
     "text": [
      "Tommorow direction prediction: Bullish, price prediction: 4961.86\n"
     ]
    }
   ],
   "source": [
    "import pandas as pd\n",
    "from codebase import prepare_data, next_day\n",
    "\n",
    "dataset = pd.read_csv('Dataset.csv')\n",
    "dataset = prepare_data(dataset)\n",
    "direction, price = next_day(dataset)    # May take a moment to evaluate\n",
    "\n",
    "print(f'Tommorow direction prediction: {direction}, price prediction: {price[0]:.2f}')"
   ]
  },
  {
   "cell_type": "code",
   "execution_count": null,
   "metadata": {},
   "outputs": [],
   "source": []
  }
 ],
 "metadata": {
  "kernelspec": {
   "display_name": "Python 3",
   "language": "python",
   "name": "python3"
  },
  "language_info": {
   "codemirror_mode": {
    "name": "ipython",
    "version": 3
   },
   "file_extension": ".py",
   "mimetype": "text/x-python",
   "name": "python",
   "nbconvert_exporter": "python",
   "pygments_lexer": "ipython3",
   "version": "3.8.5"
  }
 },
 "nbformat": 4,
 "nbformat_minor": 4
}
