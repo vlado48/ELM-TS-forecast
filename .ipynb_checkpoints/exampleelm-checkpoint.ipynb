{
 "cells": [
  {
   "cell_type": "code",
   "execution_count": 2,
   "metadata": {},
   "outputs": [
    {
     "ename": "ModuleNotFoundError",
     "evalue": "No module named 'model'",
     "output_type": "error",
     "traceback": [
      "\u001b[1;31m---------------------------------------------------------------------------\u001b[0m",
      "\u001b[1;31mModuleNotFoundError\u001b[0m                       Traceback (most recent call last)",
      "\u001b[1;32m<ipython-input-2-b3a2e654c6ae>\u001b[0m in \u001b[0;36m<module>\u001b[1;34m\u001b[0m\n\u001b[0;32m      4\u001b[0m \u001b[1;32mfrom\u001b[0m \u001b[0mmatplotlib\u001b[0m \u001b[1;32mimport\u001b[0m \u001b[0mpyplot\u001b[0m \u001b[1;32mas\u001b[0m \u001b[0mplt\u001b[0m\u001b[1;33m\u001b[0m\u001b[1;33m\u001b[0m\u001b[0m\n\u001b[0;32m      5\u001b[0m \u001b[1;32mimport\u001b[0m \u001b[0mrandom\u001b[0m\u001b[1;33m\u001b[0m\u001b[1;33m\u001b[0m\u001b[0m\n\u001b[1;32m----> 6\u001b[1;33m \u001b[1;32mfrom\u001b[0m \u001b[0mmodel\u001b[0m \u001b[1;32mimport\u001b[0m \u001b[0mELM\u001b[0m\u001b[1;33m\u001b[0m\u001b[1;33m\u001b[0m\u001b[0m\n\u001b[0m\u001b[0;32m      7\u001b[0m \u001b[1;31m# Network Settings\u001b[0m\u001b[1;33m\u001b[0m\u001b[1;33m\u001b[0m\u001b[1;33m\u001b[0m\u001b[0m\n\u001b[0;32m      8\u001b[0m \u001b[0mnum_classes\u001b[0m \u001b[1;33m=\u001b[0m \u001b[1;36m10\u001b[0m\u001b[1;33m\u001b[0m\u001b[1;33m\u001b[0m\u001b[0m\n",
      "\u001b[1;31mModuleNotFoundError\u001b[0m: No module named 'model'"
     ]
    }
   ],
   "source": [
    "import numpy as np\n",
    "from tensorflow.keras.datasets import mnist\n",
    "from tensorflow.keras.utils import to_categorical\n",
    "from matplotlib import pyplot as plt\n",
    "import random\n",
    "from model import ELM\n",
    "# Network Settings\n",
    "num_classes = 10\n",
    "num_hidden_layers = 512\n",
    "input_length = 28**2\n",
    "# Load MNIST Dataset\n",
    "(x_train, y_train), (x_test, y_test) = mnist.load_data()\n",
    "\n",
    "# Process images into input vectors\n",
    "# each mnist image is a 28x28 picture with value ranges between 0 and 255\n",
    "x_train = x_train.astype(np.float32) / 255.\n",
    "x_train = x_train.reshape(-1, input_length)\n",
    "x_test = x_test.astype(np.float32) / 255.\n",
    "x_test = x_test.reshape(-1, input_length)\n",
    "\n",
    "# converts [1,2] into [[0,1,0], [0,0,1]]\n",
    "y_train = to_categorical(y_train, num_classes).astype(np.float32)\n",
    "y_test = to_categorical(y_test, num_classes).astype(np.float32)\n"
   ]
  },
  {
   "cell_type": "code",
   "execution_count": null,
   "metadata": {},
   "outputs": [],
   "source": []
  },
  {
   "cell_type": "code",
   "execution_count": null,
   "metadata": {},
   "outputs": [],
   "source": [
    "# create instance of our model\n",
    "model = ELM(\n",
    "    input_length,\n",
    "    num_hidden_layers,\n",
    "    num_classes\n",
    ")\n",
    "Bias shape: (512,)\n",
    "W shape: (784, 512)\n",
    "Beta shape: (512, 10)\n",
    "# Train\n",
    "model.fit(x_train, y_train, display_time=True)\n",
    "train_loss, train_acc = model.evaluate(x_train, y_train)\n",
    "print('train loss: %f' % train_loss)\n",
    "print('train acc: %f' % train_acc)\n",
    "Train time: 3.594151735305786\n",
    "train loss: 0.014729\n",
    "train acc: 0.910000\n",
    "# Validation\n",
    "val_loss, val_acc = model.evaluate(x_test, y_test)\n",
    "print('val loss: %f' % val_loss)\n",
    "print('val acc: %f' % val_acc)\n",
    "val loss: 0.014554\n",
    "val acc: 0.911100\n",
    "# Predictions\n",
    "test_data = x_test[np.random.choice(len(x_test), size=5, replace=False)]\n",
    "predictions = model(test_data)\n",
    "\n",
    "fig, axs = plt.subplots(1, 5)\n",
    "fig.set_size_inches(18.5, 10.5)\n",
    "for idx, image in enumerate(test_data):\n",
    "    image = np.array(image, dtype='float')\n",
    "    pixels = image.reshape((28, 28))\n",
    "    axs[idx].imshow(pixels, cmap='gray')\n",
    "    axs[idx].axes.get_yaxis().set_visible(False)\n",
    "    axs[idx].title.set_text(f'Predicted {np.argmax(predictions[idx])}')\n",
    "    axs[idx].set_xlabel(f'With prob: {str(round(np.max(predictions[idx]), 2))}')\n",
    "    \n",
    "    \n",
    "plt.show()\n",
    "\n",
    " "
   ]
  }
 ],
 "metadata": {
  "kernelspec": {
   "display_name": "Python 3",
   "language": "python",
   "name": "python3"
  },
  "language_info": {
   "codemirror_mode": {
    "name": "ipython",
    "version": 3
   },
   "file_extension": ".py",
   "mimetype": "text/x-python",
   "name": "python",
   "nbconvert_exporter": "python",
   "pygments_lexer": "ipython3",
   "version": "3.8.5"
  }
 },
 "nbformat": 4,
 "nbformat_minor": 4
}
