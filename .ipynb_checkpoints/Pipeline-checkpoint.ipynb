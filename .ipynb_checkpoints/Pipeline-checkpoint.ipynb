{
 "cells": [
  {
   "cell_type": "markdown",
   "metadata": {},
   "source": [
    "# Complete pipeline\n",
    "- predicts the last day of a dataset"
   ]
  },
  {
   "cell_type": "code",
   "execution_count": 3,
   "metadata": {},
   "outputs": [
    {
     "name": "stdout",
     "output_type": "stream",
     "text": [
      "Tommorow direction prediction: Bearish, price prediction: 8881.30\n",
      "Tommorow actial direction: Bullish, price actual: 9104.0\n"
     ]
    }
   ],
   "source": [
    "import pandas as pd\n",
    "from codebase import prepare_data, next_day\n",
    "\n",
    "dataset = pd.read_csv('Dataset.csv')\n",
    "dataset = prepare_data(dataset)\n",
    "direction, price = next_day(dataset)    # May take a moment to evaluate\n",
    "\n",
    "\n",
    "print(f'Tommorow direction prediction: {direction}, price prediction: {price[0]:.2f}')\n",
    "\n",
    "price_actual     = dataset['Market2: Open'].iloc[-1]\n",
    "direction_actual = dataset['Market2: Direction'].iloc[-1]\n",
    "direction_actual = 'Bearish' if 0 else 'Bullish'\n",
    "print(f'Tommorow actial direction: {direction_actual}, price actual: {price_actual}')"
   ]
  },
  {
   "cell_type": "code",
   "execution_count": null,
   "metadata": {},
   "outputs": [],
   "source": []
  }
 ],
 "metadata": {
  "kernelspec": {
   "display_name": "Python 3",
   "language": "python",
   "name": "python3"
  },
  "language_info": {
   "codemirror_mode": {
    "name": "ipython",
    "version": 3
   },
   "file_extension": ".py",
   "mimetype": "text/x-python",
   "name": "python",
   "nbconvert_exporter": "python",
   "pygments_lexer": "ipython3",
   "version": "3.8.5"
  }
 },
 "nbformat": 4,
 "nbformat_minor": 4
}
